{
  "nbformat": 4,
  "nbformat_minor": 0,
  "metadata": {
    "colab": {
      "provenance": [],
      "gpuType": "V100",
      "mount_file_id": "1yGENyMkCQSnO7TS1jLtjf9AGIkzNsspi",
      "authorship_tag": "ABX9TyPKuKHJqAKLZGGGoP/rnHpM",
      "include_colab_link": true
    },
    "kernelspec": {
      "name": "python3",
      "display_name": "Python 3"
    },
    "language_info": {
      "name": "python"
    },
    "accelerator": "GPU"
  },
  "cells": [
    {
      "cell_type": "markdown",
      "metadata": {
        "id": "view-in-github",
        "colab_type": "text"
      },
      "source": [
        "<a href=\"https://colab.research.google.com/github/jx-dohwan/Initial_public_offering_price_prediction/blob/main/CART_LR.ipynb\" target=\"_parent\"><img src=\"https://colab.research.google.com/assets/colab-badge.svg\" alt=\"Open In Colab\"/></a>"
      ]
    },
    {
      "cell_type": "markdown",
      "source": [
        "# CART-LR"
      ],
      "metadata": {
        "id": "cVm0BFQ4SFrc"
      }
    },
    {
      "cell_type": "code",
      "execution_count": null,
      "metadata": {
        "id": "lb57wXyTn30P"
      },
      "outputs": [],
      "source": [
        "import pandas as pd\n",
        "from sklearn.model_selection import train_test_split\n",
        "from sklearn.preprocessing import LabelEncoder\n",
        "from sklearn.tree import DecisionTreeClassifier\n",
        "from sklearn.metrics import accuracy_score, confusion_matrix, classification_report\n",
        "import matplotlib.pyplot as plt\n",
        "from sklearn import tree\n",
        "from scipy.stats import pointbiserialr"
      ]
    },
    {
      "cell_type": "code",
      "source": [
        "!sudo apt-get install -y fonts-nanum\n",
        "!sudo fc-cache -fv\n",
        "!rm ~/.cache/matplotlib -rf"
      ],
      "metadata": {
        "colab": {
          "base_uri": "https://localhost:8080/"
        },
        "id": "H6HCu3EleohM",
        "outputId": "b7d48238-6e1d-4a04-de97-09d746bd7748"
      },
      "execution_count": null,
      "outputs": [
        {
          "output_type": "stream",
          "name": "stdout",
          "text": [
            "Reading package lists... Done\n",
            "Building dependency tree       \n",
            "Reading state information... Done\n",
            "fonts-nanum is already the newest version (20180306-3).\n",
            "0 upgraded, 0 newly installed, 0 to remove and 15 not upgraded.\n",
            "/usr/share/fonts: caching, new cache contents: 0 fonts, 1 dirs\n",
            "/usr/share/fonts/truetype: caching, new cache contents: 0 fonts, 3 dirs\n",
            "/usr/share/fonts/truetype/humor-sans: caching, new cache contents: 1 fonts, 0 dirs\n",
            "/usr/share/fonts/truetype/liberation: caching, new cache contents: 16 fonts, 0 dirs\n",
            "/usr/share/fonts/truetype/nanum: caching, new cache contents: 10 fonts, 0 dirs\n",
            "/usr/local/share/fonts: caching, new cache contents: 0 fonts, 0 dirs\n",
            "/root/.local/share/fonts: skipping, no such directory\n",
            "/root/.fonts: skipping, no such directory\n",
            "/usr/share/fonts/truetype: skipping, looped directory detected\n",
            "/usr/share/fonts/truetype/humor-sans: skipping, looped directory detected\n",
            "/usr/share/fonts/truetype/liberation: skipping, looped directory detected\n",
            "/usr/share/fonts/truetype/nanum: skipping, looped directory detected\n",
            "/var/cache/fontconfig: cleaning cache directory\n",
            "/root/.cache/fontconfig: not cleaning non-existent cache directory\n",
            "/root/.fontconfig: not cleaning non-existent cache directory\n",
            "fc-cache: succeeded\n"
          ]
        }
      ]
    },
    {
      "cell_type": "code",
      "source": [
        "import matplotlib.pyplot as plt\n",
        "plt.rc('font', family='NanumBarunGothic')"
      ],
      "metadata": {
        "id": "-l0u8VBPeqT3"
      },
      "execution_count": null,
      "outputs": []
    },
    {
      "cell_type": "markdown",
      "source": [
        "## 1. 기본 변수"
      ],
      "metadata": {
        "id": "qE9Jcab7fsqD"
      }
    },
    {
      "cell_type": "code",
      "source": [
        "df = pd.read_csv('/content/drive/MyDrive/인공지능/경영빅데이터/data/IPOv3_resampled_data.csv')"
      ],
      "metadata": {
        "id": "TPDqTUGZeso5"
      },
      "execution_count": null,
      "outputs": []
    },
    {
      "cell_type": "code",
      "source": [
        "df = df.drop(['최근 공모주 동향(최근 3개월 내의 종속변수 1인 갯수)','최근 3개월 공모주 수', '희망공모가_하한',  '희망공모가_상한','일반청약자(비율)', 'ROE', '밴드수익률(공모가/공모가_상한)'], axis=1)"
      ],
      "metadata": {
        "id": "KDqbIZs6e1Wc"
      },
      "execution_count": null,
      "outputs": []
    },
    {
      "cell_type": "code",
      "source": [
        "df.info()"
      ],
      "metadata": {
        "colab": {
          "base_uri": "https://localhost:8080/"
        },
        "id": "rgoYnpbzjoc9",
        "outputId": "8cccd526-b203-402f-e11c-fda3256d20e6"
      },
      "execution_count": null,
      "outputs": [
        {
          "output_type": "stream",
          "name": "stdout",
          "text": [
            "<class 'pandas.core.frame.DataFrame'>\n",
            "RangeIndex: 832 entries, 0 to 831\n",
            "Data columns (total 18 columns):\n",
            " #   Column          Non-Null Count  Dtype  \n",
            "---  ------          --------------  -----  \n",
            " 0   상장 시기(상장월)      832 non-null    int64  \n",
            " 1   최근 \"따\" 비율       832 non-null    float64\n",
            " 2   공모가             832 non-null    int64  \n",
            " 3   기관경쟁률           832 non-null    float64\n",
            " 4   청약경쟁률           832 non-null    float64\n",
            " 5   의무보유확약          832 non-null    float64\n",
            " 6   대표주간사           832 non-null    int64  \n",
            " 7   IPO 주간사 순위      832 non-null    int64  \n",
            " 8   총 공모주식 수        832 non-null    int64  \n",
            " 9   구주매출(비율)        832 non-null    float64\n",
            " 10  매출액(백만원)        832 non-null    int64  \n",
            " 11  순이익(백만원)        832 non-null    int64  \n",
            " 12  자본금(백만원)        832 non-null    int64  \n",
            " 13  전문투자자(비율)       832 non-null    float64\n",
            " 14  우리사주조합(비율)      832 non-null    float64\n",
            " 15  공모후 상장주식수(주식수)  832 non-null    int64  \n",
            " 16  유통가능주식합계(비율)    832 non-null    float64\n",
            " 17  종속변수            832 non-null    int64  \n",
            "dtypes: float64(8), int64(10)\n",
            "memory usage: 117.1 KB\n"
          ]
        }
      ]
    },
    {
      "cell_type": "code",
      "source": [
        "X = df.drop('종속변수', axis=1)\n",
        "y = df['종속변수']"
      ],
      "metadata": {
        "id": "TGGA8nSviHYm"
      },
      "execution_count": null,
      "outputs": []
    },
    {
      "cell_type": "markdown",
      "source": [
        "###  1) 모델링"
      ],
      "metadata": {
        "id": "CJS5ZVSZhjFf"
      }
    },
    {
      "cell_type": "markdown",
      "source": [
        "#### 로지스틱 회귀분석"
      ],
      "metadata": {
        "id": "D9_A_5Pohoox"
      }
    },
    {
      "cell_type": "code",
      "source": [
        "from sklearn.model_selection import GridSearchCV\n",
        "from sklearn.linear_model import LogisticRegression\n",
        "import pandas as pd\n",
        "import numpy as np\n",
        "\n",
        "def my_GridSearch(model, train, y, param_grid, verbose=2, n_jobs=5):\n",
        "    grid_model = GridSearchCV(model, param_grid=param_grid, scoring='accuracy', cv=5, verbose=verbose, n_jobs=n_jobs)\n",
        "\n",
        "    grid_model.fit(train, y)\n",
        "\n",
        "    params = grid_model.cv_results_['params']\n",
        "    score = grid_model.cv_results_['mean_test_score']\n",
        "\n",
        "    results = pd.DataFrame(params)\n",
        "    results['score'] = score\n",
        "\n",
        "    results = results.sort_values('score', ascending=False)\n",
        "\n",
        "    return results\n",
        "\n",
        "\n",
        "\n",
        "# 로지스틱 회귀 모델 정의\n",
        "logreg = LogisticRegression()\n",
        "\n",
        "# 하이퍼파라미터 그리드\n",
        "param_grid = {'C': [0.001, 0.01, 0.1, 1, 10, 100, 1000, 1500, 2000, 2500, 3000],\n",
        "              'max_iter': [100, 200, 300, 400, 500, 600, 700, 800 , 900 , 1000],\n",
        "              'penalty': ['l1'], # l1정규화를 통해서 불필요한 변수는 제거하고 무엇이 유의미하지 파악할 것임\n",
        "              'solver': ['liblinear']} # 작은 데이터셋에 유리\n",
        "\n",
        "# 원본 DataFrame의 열 이름 저장\n",
        "original_columns = X.columns\n",
        "\n",
        "from sklearn.preprocessing import StandardScaler\n",
        "# StandardScaler\n",
        "scaler = StandardScaler()\n",
        "X = scaler.fit_transform(X)\n",
        "\n",
        "# 데이터 준비 (X_train과 y_train)\n",
        "X_train, X_test, y_train, y_test = train_test_split(X, y, test_size=0.2, random_state=42)\n",
        "\n",
        "# 그리드서치 실행\n",
        "my_GridSearch(logreg, X_train, y_train, param_grid)\n",
        "\n"
      ],
      "metadata": {
        "colab": {
          "base_uri": "https://localhost:8080/",
          "height": 442
        },
        "id": "zt3zKGr-hifB",
        "outputId": "9d10785d-da92-4fbb-94e9-4ec2bed7af97"
      },
      "execution_count": null,
      "outputs": [
        {
          "output_type": "stream",
          "name": "stdout",
          "text": [
            "Fitting 5 folds for each of 110 candidates, totalling 550 fits\n"
          ]
        },
        {
          "output_type": "execute_result",
          "data": {
            "text/plain": [
              "           C  max_iter penalty     solver     score\n",
              "55   100.000       600      l1  liblinear  0.846617\n",
              "70  1500.000       100      l1  liblinear  0.846617\n",
              "81  2000.000       200      l1  liblinear  0.846617\n",
              "80  2000.000       100      l1  liblinear  0.846617\n",
              "79  1500.000      1000      l1  liblinear  0.846617\n",
              "..       ...       ...     ...        ...       ...\n",
              "6      0.001       700      l1  liblinear  0.509774\n",
              "7      0.001       800      l1  liblinear  0.509774\n",
              "8      0.001       900      l1  liblinear  0.509774\n",
              "9      0.001      1000      l1  liblinear  0.509774\n",
              "0      0.001       100      l1  liblinear  0.509774\n",
              "\n",
              "[110 rows x 5 columns]"
            ],
            "text/html": [
              "\n",
              "  <div id=\"df-c4b15185-ff75-4645-a2bd-34d5eee0b87d\">\n",
              "    <div class=\"colab-df-container\">\n",
              "      <div>\n",
              "<style scoped>\n",
              "    .dataframe tbody tr th:only-of-type {\n",
              "        vertical-align: middle;\n",
              "    }\n",
              "\n",
              "    .dataframe tbody tr th {\n",
              "        vertical-align: top;\n",
              "    }\n",
              "\n",
              "    .dataframe thead th {\n",
              "        text-align: right;\n",
              "    }\n",
              "</style>\n",
              "<table border=\"1\" class=\"dataframe\">\n",
              "  <thead>\n",
              "    <tr style=\"text-align: right;\">\n",
              "      <th></th>\n",
              "      <th>C</th>\n",
              "      <th>max_iter</th>\n",
              "      <th>penalty</th>\n",
              "      <th>solver</th>\n",
              "      <th>score</th>\n",
              "    </tr>\n",
              "  </thead>\n",
              "  <tbody>\n",
              "    <tr>\n",
              "      <th>55</th>\n",
              "      <td>100.000</td>\n",
              "      <td>600</td>\n",
              "      <td>l1</td>\n",
              "      <td>liblinear</td>\n",
              "      <td>0.846617</td>\n",
              "    </tr>\n",
              "    <tr>\n",
              "      <th>70</th>\n",
              "      <td>1500.000</td>\n",
              "      <td>100</td>\n",
              "      <td>l1</td>\n",
              "      <td>liblinear</td>\n",
              "      <td>0.846617</td>\n",
              "    </tr>\n",
              "    <tr>\n",
              "      <th>81</th>\n",
              "      <td>2000.000</td>\n",
              "      <td>200</td>\n",
              "      <td>l1</td>\n",
              "      <td>liblinear</td>\n",
              "      <td>0.846617</td>\n",
              "    </tr>\n",
              "    <tr>\n",
              "      <th>80</th>\n",
              "      <td>2000.000</td>\n",
              "      <td>100</td>\n",
              "      <td>l1</td>\n",
              "      <td>liblinear</td>\n",
              "      <td>0.846617</td>\n",
              "    </tr>\n",
              "    <tr>\n",
              "      <th>79</th>\n",
              "      <td>1500.000</td>\n",
              "      <td>1000</td>\n",
              "      <td>l1</td>\n",
              "      <td>liblinear</td>\n",
              "      <td>0.846617</td>\n",
              "    </tr>\n",
              "    <tr>\n",
              "      <th>...</th>\n",
              "      <td>...</td>\n",
              "      <td>...</td>\n",
              "      <td>...</td>\n",
              "      <td>...</td>\n",
              "      <td>...</td>\n",
              "    </tr>\n",
              "    <tr>\n",
              "      <th>6</th>\n",
              "      <td>0.001</td>\n",
              "      <td>700</td>\n",
              "      <td>l1</td>\n",
              "      <td>liblinear</td>\n",
              "      <td>0.509774</td>\n",
              "    </tr>\n",
              "    <tr>\n",
              "      <th>7</th>\n",
              "      <td>0.001</td>\n",
              "      <td>800</td>\n",
              "      <td>l1</td>\n",
              "      <td>liblinear</td>\n",
              "      <td>0.509774</td>\n",
              "    </tr>\n",
              "    <tr>\n",
              "      <th>8</th>\n",
              "      <td>0.001</td>\n",
              "      <td>900</td>\n",
              "      <td>l1</td>\n",
              "      <td>liblinear</td>\n",
              "      <td>0.509774</td>\n",
              "    </tr>\n",
              "    <tr>\n",
              "      <th>9</th>\n",
              "      <td>0.001</td>\n",
              "      <td>1000</td>\n",
              "      <td>l1</td>\n",
              "      <td>liblinear</td>\n",
              "      <td>0.509774</td>\n",
              "    </tr>\n",
              "    <tr>\n",
              "      <th>0</th>\n",
              "      <td>0.001</td>\n",
              "      <td>100</td>\n",
              "      <td>l1</td>\n",
              "      <td>liblinear</td>\n",
              "      <td>0.509774</td>\n",
              "    </tr>\n",
              "  </tbody>\n",
              "</table>\n",
              "<p>110 rows × 5 columns</p>\n",
              "</div>\n",
              "      <button class=\"colab-df-convert\" onclick=\"convertToInteractive('df-c4b15185-ff75-4645-a2bd-34d5eee0b87d')\"\n",
              "              title=\"Convert this dataframe to an interactive table.\"\n",
              "              style=\"display:none;\">\n",
              "        \n",
              "  <svg xmlns=\"http://www.w3.org/2000/svg\" height=\"24px\"viewBox=\"0 0 24 24\"\n",
              "       width=\"24px\">\n",
              "    <path d=\"M0 0h24v24H0V0z\" fill=\"none\"/>\n",
              "    <path d=\"M18.56 5.44l.94 2.06.94-2.06 2.06-.94-2.06-.94-.94-2.06-.94 2.06-2.06.94zm-11 1L8.5 8.5l.94-2.06 2.06-.94-2.06-.94L8.5 2.5l-.94 2.06-2.06.94zm10 10l.94 2.06.94-2.06 2.06-.94-2.06-.94-.94-2.06-.94 2.06-2.06.94z\"/><path d=\"M17.41 7.96l-1.37-1.37c-.4-.4-.92-.59-1.43-.59-.52 0-1.04.2-1.43.59L10.3 9.45l-7.72 7.72c-.78.78-.78 2.05 0 2.83L4 21.41c.39.39.9.59 1.41.59.51 0 1.02-.2 1.41-.59l7.78-7.78 2.81-2.81c.8-.78.8-2.07 0-2.86zM5.41 20L4 18.59l7.72-7.72 1.47 1.35L5.41 20z\"/>\n",
              "  </svg>\n",
              "      </button>\n",
              "      \n",
              "  <style>\n",
              "    .colab-df-container {\n",
              "      display:flex;\n",
              "      flex-wrap:wrap;\n",
              "      gap: 12px;\n",
              "    }\n",
              "\n",
              "    .colab-df-convert {\n",
              "      background-color: #E8F0FE;\n",
              "      border: none;\n",
              "      border-radius: 50%;\n",
              "      cursor: pointer;\n",
              "      display: none;\n",
              "      fill: #1967D2;\n",
              "      height: 32px;\n",
              "      padding: 0 0 0 0;\n",
              "      width: 32px;\n",
              "    }\n",
              "\n",
              "    .colab-df-convert:hover {\n",
              "      background-color: #E2EBFA;\n",
              "      box-shadow: 0px 1px 2px rgba(60, 64, 67, 0.3), 0px 1px 3px 1px rgba(60, 64, 67, 0.15);\n",
              "      fill: #174EA6;\n",
              "    }\n",
              "\n",
              "    [theme=dark] .colab-df-convert {\n",
              "      background-color: #3B4455;\n",
              "      fill: #D2E3FC;\n",
              "    }\n",
              "\n",
              "    [theme=dark] .colab-df-convert:hover {\n",
              "      background-color: #434B5C;\n",
              "      box-shadow: 0px 1px 3px 1px rgba(0, 0, 0, 0.15);\n",
              "      filter: drop-shadow(0px 1px 2px rgba(0, 0, 0, 0.3));\n",
              "      fill: #FFFFFF;\n",
              "    }\n",
              "  </style>\n",
              "\n",
              "      <script>\n",
              "        const buttonEl =\n",
              "          document.querySelector('#df-c4b15185-ff75-4645-a2bd-34d5eee0b87d button.colab-df-convert');\n",
              "        buttonEl.style.display =\n",
              "          google.colab.kernel.accessAllowed ? 'block' : 'none';\n",
              "\n",
              "        async function convertToInteractive(key) {\n",
              "          const element = document.querySelector('#df-c4b15185-ff75-4645-a2bd-34d5eee0b87d');\n",
              "          const dataTable =\n",
              "            await google.colab.kernel.invokeFunction('convertToInteractive',\n",
              "                                                     [key], {});\n",
              "          if (!dataTable) return;\n",
              "\n",
              "          const docLinkHtml = 'Like what you see? Visit the ' +\n",
              "            '<a target=\"_blank\" href=https://colab.research.google.com/notebooks/data_table.ipynb>data table notebook</a>'\n",
              "            + ' to learn more about interactive tables.';\n",
              "          element.innerHTML = '';\n",
              "          dataTable['output_type'] = 'display_data';\n",
              "          await google.colab.output.renderOutput(dataTable, element);\n",
              "          const docLink = document.createElement('div');\n",
              "          docLink.innerHTML = docLinkHtml;\n",
              "          element.appendChild(docLink);\n",
              "        }\n",
              "      </script>\n",
              "    </div>\n",
              "  </div>\n",
              "  "
            ]
          },
          "metadata": {},
          "execution_count": 56
        }
      ]
    },
    {
      "cell_type": "code",
      "source": [
        "from sklearn.linear_model import LogisticRegression\n",
        "X_train, X_test, y_train, y_test = train_test_split(X, y, test_size=0.2, random_state=42)\n",
        "\n",
        "logreg = LogisticRegression(penalty='l1',solver='liblinear', C=100, max_iter=600)\n",
        "logreg.fit(X_train, y_train)\n",
        "\n",
        "print(\"Logistic Regression Score: \", logreg.score(X_test, y_test))\n",
        "\n",
        "logreg_pred = logreg.predict(X_test)\n",
        "print(\"Logistic Regression: \")\n",
        "print(confusion_matrix(y_test, logreg_pred))\n",
        "print(classification_report(y_test, logreg_pred))\n",
        "important_features = original_columns[logreg.coef_[0] != 0]\n",
        "print(\"유의미한 변수 : \\n\", important_features)"
      ],
      "metadata": {
        "colab": {
          "base_uri": "https://localhost:8080/"
        },
        "id": "LYEc7k10iaqO",
        "outputId": "8995f8f8-94f4-4d07-9f5d-c3f456be1ea3"
      },
      "execution_count": null,
      "outputs": [
        {
          "output_type": "stream",
          "name": "stdout",
          "text": [
            "Logistic Regression Score:  0.8023952095808383\n",
            "Logistic Regression: \n",
            "[[58 19]\n",
            " [14 76]]\n",
            "              precision    recall  f1-score   support\n",
            "\n",
            "           0       0.81      0.75      0.78        77\n",
            "           1       0.80      0.84      0.82        90\n",
            "\n",
            "    accuracy                           0.80       167\n",
            "   macro avg       0.80      0.80      0.80       167\n",
            "weighted avg       0.80      0.80      0.80       167\n",
            "\n",
            "유의미한 변수 : \n",
            " Index(['상장 시기(상장월)', '최근 \"따\" 비율', '공모가', '기관경쟁률', '청약경쟁률', '의무보유확약', '대표주간사',\n",
            "       'IPO 주간사 순위', '총 공모주식 수', '구주매출(비율)', '매출액(백만원)', '순이익(백만원)',\n",
            "       '자본금(백만원)', '전문투자자(비율)', '우리사주조합(비율)', '공모후 상장주식수(주식수)',\n",
            "       '유통가능주식합계(비율)'],\n",
            "      dtype='object')\n"
          ]
        }
      ]
    },
    {
      "cell_type": "code",
      "source": [
        "import numpy as np\n",
        "\n",
        "# 계수가 0이 아닌 변수들의 이름과 계수를 가져옵니다.\n",
        "important_features = original_columns[np.abs(logreg.coef_[0]) != 0]\n",
        "important_coefs = np.abs(logreg.coef_[0][np.abs(logreg.coef_[0]) != 0])\n",
        "\n",
        "# 변수 이름과 계수를 매핑한 딕셔너리를 만듭니다.\n",
        "feature_importance = dict(zip(important_features, important_coefs))\n",
        "\n",
        "# 중요도에 따라 정렬합니다.\n",
        "feature_importance = {k: v for k, v in sorted(feature_importance.items(), key=lambda item: item[1], reverse=True)}\n",
        "\n",
        "for feature, importance in feature_importance.items():\n",
        "    print(f\"{feature}: {importance}\")\n"
      ],
      "metadata": {
        "colab": {
          "base_uri": "https://localhost:8080/"
        },
        "id": "9LBB20QlOvrA",
        "outputId": "d5ded01e-d669-4f08-d4fc-8935024c4b27"
      },
      "execution_count": null,
      "outputs": [
        {
          "output_type": "stream",
          "name": "stdout",
          "text": [
            "청약경쟁률: 10.228640164839\n",
            "공모가: 1.25878810098631\n",
            "의무보유확약: 0.8053392128384057\n",
            "유통가능주식합계(비율): 0.5813153643709807\n",
            "공모후 상장주식수(주식수): 0.5032831285803485\n",
            "기관경쟁률: 0.3933849330714409\n",
            "우리사주조합(비율): 0.37839259608081804\n",
            "대표주간사: 0.3543133918028486\n",
            "매출액(백만원): 0.3145915828810844\n",
            "전문투자자(비율): 0.25830493347937533\n",
            "최근 \"따\" 비율: 0.22697857009733446\n",
            "상장 시기(상장월): 0.20622666314397886\n",
            "IPO 주간사 순위: 0.12120945842837703\n",
            "구주매출(비율): 0.10642197879207539\n",
            "총 공모주식 수: 0.08215368034893074\n",
            "순이익(백만원): 0.051595094622822274\n",
            "자본금(백만원): 0.0011699129706843256\n"
          ]
        }
      ]
    },
    {
      "cell_type": "code",
      "source": [
        "import matplotlib.pyplot as plt\n",
        "\n",
        "# 각 feature의 importance\n",
        "features = list(feature_importance.keys())\n",
        "importances = list(feature_importance.values())\n",
        "\n",
        "# 정렬된 중요도에 따라 feature를 정렬합니다.\n",
        "indices = np.argsort(importances)\n",
        "\n",
        "plt.figure(figsize=(12, 8))  # 그림의 크기를 설정합니다.\n",
        "plt.title('Feature Importances')  # 그림의 제목을 설정합니다.\n",
        "plt.barh(range(len(indices)), [importances[i] for i in indices], color='b', align='center')  # 수평 막대 그래프를 그립니다.\n",
        "plt.yticks(range(len(indices)), [features[i] for i in indices])  # y축에 feature 이름을 표시합니다.\n",
        "plt.xlabel('Relative Importance')  # x축의 레이블을 설정합니다.\n",
        "plt.show()  # 그림을 출력합니다.\n"
      ],
      "metadata": {
        "colab": {
          "base_uri": "https://localhost:8080/",
          "height": 489
        },
        "id": "HKTCicgQPH6W",
        "outputId": "ccd1f2b1-cedf-414d-8176-94721ff36807"
      },
      "execution_count": null,
      "outputs": [
        {
          "output_type": "display_data",
          "data": {
            "text/plain": [
              "<Figure size 1200x800 with 1 Axes>"
            ],
            "image/png": "[encoded data removed]"
          },
          "metadata": {}
        }
      ]
    },
    {
      "cell_type": "code",
      "source": [
        "import seaborn as sns\n",
        "import matplotlib.pyplot as plt\n",
        "from sklearn.metrics import confusion_matrix\n",
        "\n",
        "# 'model'과 'X_test'는 당신의 모델과 테스트 데이터입니다.\n",
        "cm = confusion_matrix(y_test, logreg_pred)\n",
        "\n",
        "plt.figure(figsize=(10,7))\n",
        "sns.heatmap(cm, annot=True, fmt=\".0f\", cmap='Blues', annot_kws={\"size\": 16})\n",
        "plt.xlabel('Predicted')\n",
        "plt.ylabel('Actual')\n",
        "plt.title('Confusion Matrix of Logistic regression')\n",
        "plt.show()"
      ],
      "metadata": {
        "colab": {
          "base_uri": "https://localhost:8080/",
          "height": 620
        },
        "id": "D7rXH43Vi9q2",
        "outputId": "32e05674-68a8-44e9-a952-f71183c92ecf"
      },
      "execution_count": null,
      "outputs": [
        {
          "output_type": "display_data",
          "data": {
            "text/plain": [
              "<Figure size 1000x700 with 2 Axes>"
            ],
            "image/png": "[encoded data removed]"
          },
          "metadata": {}
        }
      ]
    }
  ]
}