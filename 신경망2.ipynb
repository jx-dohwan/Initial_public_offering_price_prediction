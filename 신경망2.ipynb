{
  "nbformat": 4,
  "nbformat_minor": 0,
  "metadata": {
    "colab": {
      "provenance": [],
      "mount_file_id": "1Y2LeAISU30yWP9iZZEjWYgynTUuGz-wx",
      "authorship_tag": "ABX9TyMApMwOY6ZtfTmd9Cd0HCC0",
      "include_colab_link": true
    },
    "kernelspec": {
      "name": "python3",
      "display_name": "Python 3"
    },
    "language_info": {
      "name": "python"
    }
  },
  "cells": [
    {
      "cell_type": "markdown",
      "metadata": {
        "id": "view-in-github",
        "colab_type": "text"
      },
      "source": [
        "<a href=\"https://colab.research.google.com/github/jx-dohwan/Initial_public_offering_price_prediction/blob/main/%EC%8B%A0%EA%B2%BD%EB%A7%9D2.ipynb\" target=\"_parent\"><img src=\"https://colab.research.google.com/assets/colab-badge.svg\" alt=\"Open In Colab\"/></a>"
      ]
    },
    {
      "cell_type": "markdown",
      "source": [
        "## 신경망 학습"
      ],
      "metadata": {
        "id": "WjBtsgTKXs9l"
      }
    },
    {
      "cell_type": "code",
      "execution_count": 1,
      "metadata": {
        "id": "7beqpAl3XYHz"
      },
      "outputs": [],
      "source": [
        "import pandas as pd\n",
        "from sklearn.model_selection import train_test_split\n",
        "from sklearn.preprocessing import LabelEncoder\n",
        "from sklearn.tree import DecisionTreeClassifier\n",
        "from sklearn.metrics import accuracy_score, confusion_matrix, classification_report\n",
        "import matplotlib.pyplot as plt\n",
        "from sklearn import tree\n",
        "from scipy.stats import pointbiserialr"
      ]
    },
    {
      "cell_type": "code",
      "source": [
        "!sudo apt-get install -y fonts-nanum\n",
        "!sudo fc-cache -fv\n",
        "!rm ~/.cache/matplotlib -rf"
      ],
      "metadata": {
        "colab": {
          "base_uri": "https://localhost:8080/"
        },
        "id": "ZBD7lZCsXh8g",
        "outputId": "46c751cb-2b0c-4c07-85b5-8c55d60caf7f"
      },
      "execution_count": 2,
      "outputs": [
        {
          "output_type": "stream",
          "name": "stdout",
          "text": [
            "Reading package lists... Done\n",
            "Building dependency tree       \n",
            "Reading state information... Done\n",
            "fonts-nanum is already the newest version (20180306-3).\n",
            "0 upgraded, 0 newly installed, 0 to remove and 15 not upgraded.\n",
            "/usr/share/fonts: caching, new cache contents: 0 fonts, 1 dirs\n",
            "/usr/share/fonts/truetype: caching, new cache contents: 0 fonts, 3 dirs\n",
            "/usr/share/fonts/truetype/humor-sans: caching, new cache contents: 1 fonts, 0 dirs\n",
            "/usr/share/fonts/truetype/liberation: caching, new cache contents: 16 fonts, 0 dirs\n",
            "/usr/share/fonts/truetype/nanum: caching, new cache contents: 10 fonts, 0 dirs\n",
            "/usr/local/share/fonts: caching, new cache contents: 0 fonts, 0 dirs\n",
            "/root/.local/share/fonts: skipping, no such directory\n",
            "/root/.fonts: skipping, no such directory\n",
            "/usr/share/fonts/truetype: skipping, looped directory detected\n",
            "/usr/share/fonts/truetype/humor-sans: skipping, looped directory detected\n",
            "/usr/share/fonts/truetype/liberation: skipping, looped directory detected\n",
            "/usr/share/fonts/truetype/nanum: skipping, looped directory detected\n",
            "/var/cache/fontconfig: cleaning cache directory\n",
            "/root/.cache/fontconfig: not cleaning non-existent cache directory\n",
            "/root/.fontconfig: not cleaning non-existent cache directory\n",
            "fc-cache: succeeded\n"
          ]
        }
      ]
    },
    {
      "cell_type": "code",
      "source": [
        "import matplotlib.pyplot as plt\n",
        "plt.rc('font', family='NanumBarunGothic')"
      ],
      "metadata": {
        "id": "SQ63FRpGXkSG"
      },
      "execution_count": 3,
      "outputs": []
    },
    {
      "cell_type": "code",
      "source": [
        "df = pd.read_csv('/content/drive/MyDrive/인공지능/경영빅데이터/data/IPOv3_resampled_data.csv')\n",
        "df = df.drop(['최근 공모주 동향(최근 3개월 내의 종속변수 1인 갯수)','최근 3개월 공모주 수', '희망공모가_하한',  '희망공모가_상한','일반청약자(비율)', 'ROE', '순이익(백만원)', '자본금(백만원)', '전문투자자(비율)'], axis=1)\n",
        "df.info()\n",
        "X = df.drop('종속변수', axis=1)\n",
        "y = df['종속변수']"
      ],
      "metadata": {
        "colab": {
          "base_uri": "https://localhost:8080/"
        },
        "id": "sacNYpYCXkPI",
        "outputId": "3109e8b4-cafa-48c2-978c-d41748e05e66"
      },
      "execution_count": 37,
      "outputs": [
        {
          "output_type": "stream",
          "name": "stdout",
          "text": [
            "<class 'pandas.core.frame.DataFrame'>\n",
            "RangeIndex: 832 entries, 0 to 831\n",
            "Data columns (total 16 columns):\n",
            " #   Column             Non-Null Count  Dtype  \n",
            "---  ------             --------------  -----  \n",
            " 0   상장 시기(상장월)         832 non-null    int64  \n",
            " 1   최근 \"따\" 비율          832 non-null    float64\n",
            " 2   공모가                832 non-null    int64  \n",
            " 3   밴드수익률(공모가/공모가_상한)  832 non-null    float64\n",
            " 4   기관경쟁률              832 non-null    float64\n",
            " 5   청약경쟁률              832 non-null    float64\n",
            " 6   의무보유확약             832 non-null    float64\n",
            " 7   대표주간사              832 non-null    int64  \n",
            " 8   IPO 주간사 순위         832 non-null    int64  \n",
            " 9   총 공모주식 수           832 non-null    int64  \n",
            " 10  구주매출(비율)           832 non-null    float64\n",
            " 11  매출액(백만원)           832 non-null    int64  \n",
            " 12  우리사주조합(비율)         832 non-null    float64\n",
            " 13  공모후 상장주식수(주식수)     832 non-null    int64  \n",
            " 14  유통가능주식합계(비율)       832 non-null    float64\n",
            " 15  종속변수               832 non-null    int64  \n",
            "dtypes: float64(8), int64(8)\n",
            "memory usage: 104.1 KB\n"
          ]
        }
      ]
    },
    {
      "cell_type": "markdown",
      "source": [
        "#### 신경망 3계층"
      ],
      "metadata": {
        "id": "Weo4Sr_ykMBA"
      }
    },
    {
      "cell_type": "code",
      "source": [
        "from sklearn.neural_network import MLPClassifier\n",
        "from sklearn.model_selection import GridSearchCV\n",
        "import pandas as pd\n",
        "from sklearn.preprocessing import StandardScaler\n",
        "# StandardScaler\n",
        "scaler = StandardScaler()\n",
        "X = scaler.fit_transform(X)\n",
        "\n",
        "# 데이터 준비 (X_train과 y_train)\n",
        "X_train, X_test, y_train, y_test = train_test_split(X, y, test_size=0.2, random_state=42)"
      ],
      "metadata": {
        "id": "JRKq6n0xRWce"
      },
      "execution_count": 38,
      "outputs": []
    },
    {
      "cell_type": "code",
      "source": [
        "\n",
        "\n",
        "def my_GridSearch(model, train, y, param_grid, verbose=2, n_jobs=5):\n",
        "    grid_model = GridSearchCV(model, param_grid=param_grid, scoring='accuracy', cv=5, verbose=verbose, n_jobs=n_jobs)\n",
        "\n",
        "    grid_model.fit(train, y)\n",
        "\n",
        "    params = grid_model.cv_results_['params']\n",
        "    score = grid_model.cv_results_['mean_test_score']\n",
        "\n",
        "    results = pd.DataFrame(params)\n",
        "    results['score'] = score\n",
        "\n",
        "    results = results.sort_values('score', ascending=False)\n",
        "\n",
        "    return results\n",
        "\n",
        "# MLPClassifier 모델 정의\n",
        "mlp = MLPClassifier()\n",
        "\n",
        "# 하이퍼파라미터 그리드\n",
        "param_grid = {\n",
        "    'hidden_layer_sizes': [(1,), (3, ), (5,), (7, ), (9,), (11,),(13,),(15,)],\n",
        "    'learning_rate_init': [0.001, 0.01, 0.1],\n",
        "    'max_iter': [100, 200, 300, 400, 500],\n",
        "    'early_stopping' : [True]\n",
        "\n",
        "}\n",
        "\n",
        "\n",
        "\n",
        "# 그리드서치 실행\n",
        "my_GridSearch(mlp, X_train, y_train, param_grid)\n",
        "\n"
      ],
      "metadata": {
        "colab": {
          "base_uri": "https://localhost:8080/",
          "height": 441
        },
        "id": "WQLxYty32i0x",
        "outputId": "8a7fbeff-36fb-416c-8157-fd747f21a5c6"
      },
      "execution_count": 28,
      "outputs": [
        {
          "output_type": "stream",
          "name": "stdout",
          "text": [
            "Fitting 5 folds for each of 120 candidates, totalling 600 fits\n"
          ]
        },
        {
          "output_type": "execute_result",
          "data": {
            "text/plain": [
              "     early_stopping hidden_layer_sizes  learning_rate_init  max_iter     score\n",
              "115            True              (15,)               0.100       100  0.861654\n",
              "57             True               (7,)               0.100       300  0.843609\n",
              "102            True              (13,)               0.100       300  0.842105\n",
              "73             True               (9,)               0.100       400  0.840602\n",
              "86             True              (11,)               0.100       200  0.840602\n",
              "..              ...                ...                 ...       ...       ...\n",
              "17             True               (3,)               0.001       300  0.511278\n",
              "2              True               (1,)               0.001       300  0.499248\n",
              "0              True               (1,)               0.001       100  0.491729\n",
              "3              True               (1,)               0.001       400  0.479699\n",
              "4              True               (1,)               0.001       500  0.469173\n",
              "\n",
              "[120 rows x 5 columns]"
            ],
            "text/html": [
              "\n",
              "  <div id=\"df-b680c5e7-e23b-478a-8117-106417462991\">\n",
              "    <div class=\"colab-df-container\">\n",
              "      <div>\n",
              "<style scoped>\n",
              "    .dataframe tbody tr th:only-of-type {\n",
              "        vertical-align: middle;\n",
              "    }\n",
              "\n",
              "    .dataframe tbody tr th {\n",
              "        vertical-align: top;\n",
              "    }\n",
              "\n",
              "    .dataframe thead th {\n",
              "        text-align: right;\n",
              "    }\n",
              "</style>\n",
              "<table border=\"1\" class=\"dataframe\">\n",
              "  <thead>\n",
              "    <tr style=\"text-align: right;\">\n",
              "      <th></th>\n",
              "      <th>early_stopping</th>\n",
              "      <th>hidden_layer_sizes</th>\n",
              "      <th>learning_rate_init</th>\n",
              "      <th>max_iter</th>\n",
              "      <th>score</th>\n",
              "    </tr>\n",
              "  </thead>\n",
              "  <tbody>\n",
              "    <tr>\n",
              "      <th>115</th>\n",
              "      <td>True</td>\n",
              "      <td>(15,)</td>\n",
              "      <td>0.100</td>\n",
              "      <td>100</td>\n",
              "      <td>0.861654</td>\n",
              "    </tr>\n",
              "    <tr>\n",
              "      <th>57</th>\n",
              "      <td>True</td>\n",
              "      <td>(7,)</td>\n",
              "      <td>0.100</td>\n",
              "      <td>300</td>\n",
              "      <td>0.843609</td>\n",
              "    </tr>\n",
              "    <tr>\n",
              "      <th>102</th>\n",
              "      <td>True</td>\n",
              "      <td>(13,)</td>\n",
              "      <td>0.100</td>\n",
              "      <td>300</td>\n",
              "      <td>0.842105</td>\n",
              "    </tr>\n",
              "    <tr>\n",
              "      <th>73</th>\n",
              "      <td>True</td>\n",
              "      <td>(9,)</td>\n",
              "      <td>0.100</td>\n",
              "      <td>400</td>\n",
              "      <td>0.840602</td>\n",
              "    </tr>\n",
              "    <tr>\n",
              "      <th>86</th>\n",
              "      <td>True</td>\n",
              "      <td>(11,)</td>\n",
              "      <td>0.100</td>\n",
              "      <td>200</td>\n",
              "      <td>0.840602</td>\n",
              "    </tr>\n",
              "    <tr>\n",
              "      <th>...</th>\n",
              "      <td>...</td>\n",
              "      <td>...</td>\n",
              "      <td>...</td>\n",
              "      <td>...</td>\n",
              "      <td>...</td>\n",
              "    </tr>\n",
              "    <tr>\n",
              "      <th>17</th>\n",
              "      <td>True</td>\n",
              "      <td>(3,)</td>\n",
              "      <td>0.001</td>\n",
              "      <td>300</td>\n",
              "      <td>0.511278</td>\n",
              "    </tr>\n",
              "    <tr>\n",
              "      <th>2</th>\n",
              "      <td>True</td>\n",
              "      <td>(1,)</td>\n",
              "      <td>0.001</td>\n",
              "      <td>300</td>\n",
              "      <td>0.499248</td>\n",
              "    </tr>\n",
              "    <tr>\n",
              "      <th>0</th>\n",
              "      <td>True</td>\n",
              "      <td>(1,)</td>\n",
              "      <td>0.001</td>\n",
              "      <td>100</td>\n",
              "      <td>0.491729</td>\n",
              "    </tr>\n",
              "    <tr>\n",
              "      <th>3</th>\n",
              "      <td>True</td>\n",
              "      <td>(1,)</td>\n",
              "      <td>0.001</td>\n",
              "      <td>400</td>\n",
              "      <td>0.479699</td>\n",
              "    </tr>\n",
              "    <tr>\n",
              "      <th>4</th>\n",
              "      <td>True</td>\n",
              "      <td>(1,)</td>\n",
              "      <td>0.001</td>\n",
              "      <td>500</td>\n",
              "      <td>0.469173</td>\n",
              "    </tr>\n",
              "  </tbody>\n",
              "</table>\n",
              "<p>120 rows × 5 columns</p>\n",
              "</div>\n",
              "      <button class=\"colab-df-convert\" onclick=\"convertToInteractive('df-b680c5e7-e23b-478a-8117-106417462991')\"\n",
              "              title=\"Convert this dataframe to an interactive table.\"\n",
              "              style=\"display:none;\">\n",
              "        \n",
              "  <svg xmlns=\"http://www.w3.org/2000/svg\" height=\"24px\"viewBox=\"0 0 24 24\"\n",
              "       width=\"24px\">\n",
              "    <path d=\"M0 0h24v24H0V0z\" fill=\"none\"/>\n",
              "    <path d=\"M18.56 5.44l.94 2.06.94-2.06 2.06-.94-2.06-.94-.94-2.06-.94 2.06-2.06.94zm-11 1L8.5 8.5l.94-2.06 2.06-.94-2.06-.94L8.5 2.5l-.94 2.06-2.06.94zm10 10l.94 2.06.94-2.06 2.06-.94-2.06-.94-.94-2.06-.94 2.06-2.06.94z\"/><path d=\"M17.41 7.96l-1.37-1.37c-.4-.4-.92-.59-1.43-.59-.52 0-1.04.2-1.43.59L10.3 9.45l-7.72 7.72c-.78.78-.78 2.05 0 2.83L4 21.41c.39.39.9.59 1.41.59.51 0 1.02-.2 1.41-.59l7.78-7.78 2.81-2.81c.8-.78.8-2.07 0-2.86zM5.41 20L4 18.59l7.72-7.72 1.47 1.35L5.41 20z\"/>\n",
              "  </svg>\n",
              "      </button>\n",
              "      \n",
              "  <style>\n",
              "    .colab-df-container {\n",
              "      display:flex;\n",
              "      flex-wrap:wrap;\n",
              "      gap: 12px;\n",
              "    }\n",
              "\n",
              "    .colab-df-convert {\n",
              "      background-color: #E8F0FE;\n",
              "      border: none;\n",
              "      border-radius: 50%;\n",
              "      cursor: pointer;\n",
              "      display: none;\n",
              "      fill: #1967D2;\n",
              "      height: 32px;\n",
              "      padding: 0 0 0 0;\n",
              "      width: 32px;\n",
              "    }\n",
              "\n",
              "    .colab-df-convert:hover {\n",
              "      background-color: #E2EBFA;\n",
              "      box-shadow: 0px 1px 2px rgba(60, 64, 67, 0.3), 0px 1px 3px 1px rgba(60, 64, 67, 0.15);\n",
              "      fill: #174EA6;\n",
              "    }\n",
              "\n",
              "    [theme=dark] .colab-df-convert {\n",
              "      background-color: #3B4455;\n",
              "      fill: #D2E3FC;\n",
              "    }\n",
              "\n",
              "    [theme=dark] .colab-df-convert:hover {\n",
              "      background-color: #434B5C;\n",
              "      box-shadow: 0px 1px 3px 1px rgba(0, 0, 0, 0.15);\n",
              "      filter: drop-shadow(0px 1px 2px rgba(0, 0, 0, 0.3));\n",
              "      fill: #FFFFFF;\n",
              "    }\n",
              "  </style>\n",
              "\n",
              "      <script>\n",
              "        const buttonEl =\n",
              "          document.querySelector('#df-b680c5e7-e23b-478a-8117-106417462991 button.colab-df-convert');\n",
              "        buttonEl.style.display =\n",
              "          google.colab.kernel.accessAllowed ? 'block' : 'none';\n",
              "\n",
              "        async function convertToInteractive(key) {\n",
              "          const element = document.querySelector('#df-b680c5e7-e23b-478a-8117-106417462991');\n",
              "          const dataTable =\n",
              "            await google.colab.kernel.invokeFunction('convertToInteractive',\n",
              "                                                     [key], {});\n",
              "          if (!dataTable) return;\n",
              "\n",
              "          const docLinkHtml = 'Like what you see? Visit the ' +\n",
              "            '<a target=\"_blank\" href=https://colab.research.google.com/notebooks/data_table.ipynb>data table notebook</a>'\n",
              "            + ' to learn more about interactive tables.';\n",
              "          element.innerHTML = '';\n",
              "          dataTable['output_type'] = 'display_data';\n",
              "          await google.colab.output.renderOutput(dataTable, element);\n",
              "          const docLink = document.createElement('div');\n",
              "          docLink.innerHTML = docLinkHtml;\n",
              "          element.appendChild(docLink);\n",
              "        }\n",
              "      </script>\n",
              "    </div>\n",
              "  </div>\n",
              "  "
            ]
          },
          "metadata": {},
          "execution_count": 28
        }
      ]
    },
    {
      "cell_type": "code",
      "source": [
        "mlp = MLPClassifier(max_iter=100, alpha=0.0001, learning_rate_init=0.1, hidden_layer_sizes=(15,), early_stopping=True)\n",
        "\n",
        "mlp.fit(X_train, y_train)\n",
        "\n",
        "\n",
        "print(\"Logistic Regression Score: \", mlp.score(X_test, y_test))\n",
        "\n",
        "pred = mlp.predict(X_test)\n",
        "print(\"Logistic Regression: \")\n",
        "print(confusion_matrix(y_test, pred))\n",
        "print(classification_report(y_test, pred))"
      ],
      "metadata": {
        "colab": {
          "base_uri": "https://localhost:8080/"
        },
        "id": "3eEHEaSP2ims",
        "outputId": "832e3136-ba7a-41c5-ef9a-6b6277f68d9c"
      },
      "execution_count": 39,
      "outputs": [
        {
          "output_type": "stream",
          "name": "stdout",
          "text": [
            "Logistic Regression Score:  0.8203592814371258\n",
            "Logistic Regression: \n",
            "[[57 20]\n",
            " [10 80]]\n",
            "              precision    recall  f1-score   support\n",
            "\n",
            "           0       0.85      0.74      0.79        77\n",
            "           1       0.80      0.89      0.84        90\n",
            "\n",
            "    accuracy                           0.82       167\n",
            "   macro avg       0.83      0.81      0.82       167\n",
            "weighted avg       0.82      0.82      0.82       167\n",
            "\n"
          ]
        }
      ]
    },
    {
      "cell_type": "code",
      "source": [
        "import seaborn as sns\n",
        "import matplotlib.pyplot as plt\n",
        "from sklearn.metrics import confusion_matrix\n",
        "\n",
        "cm = confusion_matrix(y_test, pred)\n",
        "\n",
        "plt.figure(figsize=(10,7))\n",
        "sns.heatmap(cm, annot=True, fmt=\".0f\", cmap='Blues', annot_kws={\"size\": 16})\n",
        "plt.xlabel('Predicted')\n",
        "plt.ylabel('Actual')\n",
        "plt.title('Confusion Matrix of 3-layer Neural network')\n",
        "plt.show()"
      ],
      "metadata": {
        "colab": {
          "base_uri": "https://localhost:8080/",
          "height": 640
        },
        "id": "AxTxh72o2iks",
        "outputId": "15c4e520-4799-4d48-97ca-3c3766575007"
      },
      "execution_count": 40,
      "outputs": [
        {
          "output_type": "display_data",
          "data": {
            "text/plain": [
              "<Figure size 1000x700 with 2 Axes>"
            ],
            "image/png": "[encoded data removed]"
          },
          "metadata": {}
        }
      ]
    },
    {
      "cell_type": "code",
      "source": [],
      "metadata": {
        "id": "mPIA1iOjXfjF"
      },
      "execution_count": null,
      "outputs": []
    },
    {
      "cell_type": "markdown",
      "source": [
        "#### 신경망 4계층"
      ],
      "metadata": {
        "id": "6GftpPslkNcm"
      }
    },
    {
      "cell_type": "code",
      "source": [
        "from sklearn.preprocessing import StandardScaler\n",
        "# StandardScaler\n",
        "scaler = StandardScaler()\n",
        "X = scaler.fit_transform(X)\n",
        "\n",
        "# 데이터 준비 (X_train과 y_train)\n",
        "X_train, X_test, y_train, y_test = train_test_split(X, y, test_size=0.2, random_state=42)"
      ],
      "metadata": {
        "id": "RkofdsuXRgjZ"
      },
      "execution_count": 41,
      "outputs": []
    },
    {
      "cell_type": "code",
      "source": [
        "from sklearn.neural_network import MLPClassifier\n",
        "from sklearn.model_selection import GridSearchCV\n",
        "import pandas as pd\n",
        "\n",
        "def my_GridSearch(model, train, y, param_grid, verbose=2, n_jobs=5):\n",
        "    grid_model = GridSearchCV(model, param_grid=param_grid, scoring='accuracy', cv=5, verbose=verbose, n_jobs=n_jobs)\n",
        "\n",
        "    grid_model.fit(train, y)\n",
        "\n",
        "    params = grid_model.cv_results_['params']\n",
        "    score = grid_model.cv_results_['mean_test_score']\n",
        "\n",
        "    results = pd.DataFrame(params)\n",
        "    results['score'] = score\n",
        "\n",
        "    results = results.sort_values('score', ascending=False)\n",
        "\n",
        "    return results\n",
        "\n",
        "# MLPClassifier 모델 정의\n",
        "mlp = MLPClassifier()\n",
        "\n",
        "# 하이퍼파라미터 그리드\n",
        "param_grid = {\n",
        "    'hidden_layer_sizes': [(1,1), (3,3 ), (5,5), (7,7 ), (9,9), (11,11),(13,13),(15,15)],\n",
        "    'learning_rate_init': [0.001, 0.01, 0.1],\n",
        "    'max_iter': [100, 200, 300, 400, 500],\n",
        "    'early_stopping' : [True]\n",
        "}\n",
        "\n",
        "\n",
        "\n",
        "# 그리드서치 실행\n",
        "my_GridSearch(mlp, X_train, y_train, param_grid)\n",
        "\n"
      ],
      "metadata": {
        "colab": {
          "base_uri": "https://localhost:8080/",
          "height": 441
        },
        "id": "JIdzxe9d2jal",
        "outputId": "72aef9d0-1576-4ba3-b3da-a39d3f546e72"
      },
      "execution_count": 42,
      "outputs": [
        {
          "output_type": "stream",
          "name": "stdout",
          "text": [
            "Fitting 5 folds for each of 120 candidates, totalling 600 fits\n"
          ]
        },
        {
          "output_type": "execute_result",
          "data": {
            "text/plain": [
              "     early_stopping hidden_layer_sizes  learning_rate_init  max_iter     score\n",
              "118            True           (15, 15)               0.100       400  0.858647\n",
              "101            True           (13, 13)               0.100       200  0.855639\n",
              "104            True           (13, 13)               0.100       500  0.848120\n",
              "100            True           (13, 13)               0.100       100  0.848120\n",
              "116            True           (15, 15)               0.100       200  0.846617\n",
              "..              ...                ...                 ...       ...       ...\n",
              "3              True             (1, 1)               0.001       400  0.497744\n",
              "8              True             (1, 1)               0.010       400  0.494737\n",
              "4              True             (1, 1)               0.001       500  0.494737\n",
              "1              True             (1, 1)               0.001       200  0.491729\n",
              "15             True             (3, 3)               0.001       100  0.490226\n",
              "\n",
              "[120 rows x 5 columns]"
            ],
            "text/html": [
              "\n",
              "  <div id=\"df-06f439db-c868-4c3b-9c0d-803cb8514d04\">\n",
              "    <div class=\"colab-df-container\">\n",
              "      <div>\n",
              "<style scoped>\n",
              "    .dataframe tbody tr th:only-of-type {\n",
              "        vertical-align: middle;\n",
              "    }\n",
              "\n",
              "    .dataframe tbody tr th {\n",
              "        vertical-align: top;\n",
              "    }\n",
              "\n",
              "    .dataframe thead th {\n",
              "        text-align: right;\n",
              "    }\n",
              "</style>\n",
              "<table border=\"1\" class=\"dataframe\">\n",
              "  <thead>\n",
              "    <tr style=\"text-align: right;\">\n",
              "      <th></th>\n",
              "      <th>early_stopping</th>\n",
              "      <th>hidden_layer_sizes</th>\n",
              "      <th>learning_rate_init</th>\n",
              "      <th>max_iter</th>\n",
              "      <th>score</th>\n",
              "    </tr>\n",
              "  </thead>\n",
              "  <tbody>\n",
              "    <tr>\n",
              "      <th>118</th>\n",
              "      <td>True</td>\n",
              "      <td>(15, 15)</td>\n",
              "      <td>0.100</td>\n",
              "      <td>400</td>\n",
              "      <td>0.858647</td>\n",
              "    </tr>\n",
              "    <tr>\n",
              "      <th>101</th>\n",
              "      <td>True</td>\n",
              "      <td>(13, 13)</td>\n",
              "      <td>0.100</td>\n",
              "      <td>200</td>\n",
              "      <td>0.855639</td>\n",
              "    </tr>\n",
              "    <tr>\n",
              "      <th>104</th>\n",
              "      <td>True</td>\n",
              "      <td>(13, 13)</td>\n",
              "      <td>0.100</td>\n",
              "      <td>500</td>\n",
              "      <td>0.848120</td>\n",
              "    </tr>\n",
              "    <tr>\n",
              "      <th>100</th>\n",
              "      <td>True</td>\n",
              "      <td>(13, 13)</td>\n",
              "      <td>0.100</td>\n",
              "      <td>100</td>\n",
              "      <td>0.848120</td>\n",
              "    </tr>\n",
              "    <tr>\n",
              "      <th>116</th>\n",
              "      <td>True</td>\n",
              "      <td>(15, 15)</td>\n",
              "      <td>0.100</td>\n",
              "      <td>200</td>\n",
              "      <td>0.846617</td>\n",
              "    </tr>\n",
              "    <tr>\n",
              "      <th>...</th>\n",
              "      <td>...</td>\n",
              "      <td>...</td>\n",
              "      <td>...</td>\n",
              "      <td>...</td>\n",
              "      <td>...</td>\n",
              "    </tr>\n",
              "    <tr>\n",
              "      <th>3</th>\n",
              "      <td>True</td>\n",
              "      <td>(1, 1)</td>\n",
              "      <td>0.001</td>\n",
              "      <td>400</td>\n",
              "      <td>0.497744</td>\n",
              "    </tr>\n",
              "    <tr>\n",
              "      <th>8</th>\n",
              "      <td>True</td>\n",
              "      <td>(1, 1)</td>\n",
              "      <td>0.010</td>\n",
              "      <td>400</td>\n",
              "      <td>0.494737</td>\n",
              "    </tr>\n",
              "    <tr>\n",
              "      <th>4</th>\n",
              "      <td>True</td>\n",
              "      <td>(1, 1)</td>\n",
              "      <td>0.001</td>\n",
              "      <td>500</td>\n",
              "      <td>0.494737</td>\n",
              "    </tr>\n",
              "    <tr>\n",
              "      <th>1</th>\n",
              "      <td>True</td>\n",
              "      <td>(1, 1)</td>\n",
              "      <td>0.001</td>\n",
              "      <td>200</td>\n",
              "      <td>0.491729</td>\n",
              "    </tr>\n",
              "    <tr>\n",
              "      <th>15</th>\n",
              "      <td>True</td>\n",
              "      <td>(3, 3)</td>\n",
              "      <td>0.001</td>\n",
              "      <td>100</td>\n",
              "      <td>0.490226</td>\n",
              "    </tr>\n",
              "  </tbody>\n",
              "</table>\n",
              "<p>120 rows × 5 columns</p>\n",
              "</div>\n",
              "      <button class=\"colab-df-convert\" onclick=\"convertToInteractive('df-06f439db-c868-4c3b-9c0d-803cb8514d04')\"\n",
              "              title=\"Convert this dataframe to an interactive table.\"\n",
              "              style=\"display:none;\">\n",
              "        \n",
              "  <svg xmlns=\"http://www.w3.org/2000/svg\" height=\"24px\"viewBox=\"0 0 24 24\"\n",
              "       width=\"24px\">\n",
              "    <path d=\"M0 0h24v24H0V0z\" fill=\"none\"/>\n",
              "    <path d=\"M18.56 5.44l.94 2.06.94-2.06 2.06-.94-2.06-.94-.94-2.06-.94 2.06-2.06.94zm-11 1L8.5 8.5l.94-2.06 2.06-.94-2.06-.94L8.5 2.5l-.94 2.06-2.06.94zm10 10l.94 2.06.94-2.06 2.06-.94-2.06-.94-.94-2.06-.94 2.06-2.06.94z\"/><path d=\"M17.41 7.96l-1.37-1.37c-.4-.4-.92-.59-1.43-.59-.52 0-1.04.2-1.43.59L10.3 9.45l-7.72 7.72c-.78.78-.78 2.05 0 2.83L4 21.41c.39.39.9.59 1.41.59.51 0 1.02-.2 1.41-.59l7.78-7.78 2.81-2.81c.8-.78.8-2.07 0-2.86zM5.41 20L4 18.59l7.72-7.72 1.47 1.35L5.41 20z\"/>\n",
              "  </svg>\n",
              "      </button>\n",
              "      \n",
              "  <style>\n",
              "    .colab-df-container {\n",
              "      display:flex;\n",
              "      flex-wrap:wrap;\n",
              "      gap: 12px;\n",
              "    }\n",
              "\n",
              "    .colab-df-convert {\n",
              "      background-color: #E8F0FE;\n",
              "      border: none;\n",
              "      border-radius: 50%;\n",
              "      cursor: pointer;\n",
              "      display: none;\n",
              "      fill: #1967D2;\n",
              "      height: 32px;\n",
              "      padding: 0 0 0 0;\n",
              "      width: 32px;\n",
              "    }\n",
              "\n",
              "    .colab-df-convert:hover {\n",
              "      background-color: #E2EBFA;\n",
              "      box-shadow: 0px 1px 2px rgba(60, 64, 67, 0.3), 0px 1px 3px 1px rgba(60, 64, 67, 0.15);\n",
              "      fill: #174EA6;\n",
              "    }\n",
              "\n",
              "    [theme=dark] .colab-df-convert {\n",
              "      background-color: #3B4455;\n",
              "      fill: #D2E3FC;\n",
              "    }\n",
              "\n",
              "    [theme=dark] .colab-df-convert:hover {\n",
              "      background-color: #434B5C;\n",
              "      box-shadow: 0px 1px 3px 1px rgba(0, 0, 0, 0.15);\n",
              "      filter: drop-shadow(0px 1px 2px rgba(0, 0, 0, 0.3));\n",
              "      fill: #FFFFFF;\n",
              "    }\n",
              "  </style>\n",
              "\n",
              "      <script>\n",
              "        const buttonEl =\n",
              "          document.querySelector('#df-06f439db-c868-4c3b-9c0d-803cb8514d04 button.colab-df-convert');\n",
              "        buttonEl.style.display =\n",
              "          google.colab.kernel.accessAllowed ? 'block' : 'none';\n",
              "\n",
              "        async function convertToInteractive(key) {\n",
              "          const element = document.querySelector('#df-06f439db-c868-4c3b-9c0d-803cb8514d04');\n",
              "          const dataTable =\n",
              "            await google.colab.kernel.invokeFunction('convertToInteractive',\n",
              "                                                     [key], {});\n",
              "          if (!dataTable) return;\n",
              "\n",
              "          const docLinkHtml = 'Like what you see? Visit the ' +\n",
              "            '<a target=\"_blank\" href=https://colab.research.google.com/notebooks/data_table.ipynb>data table notebook</a>'\n",
              "            + ' to learn more about interactive tables.';\n",
              "          element.innerHTML = '';\n",
              "          dataTable['output_type'] = 'display_data';\n",
              "          await google.colab.output.renderOutput(dataTable, element);\n",
              "          const docLink = document.createElement('div');\n",
              "          docLink.innerHTML = docLinkHtml;\n",
              "          element.appendChild(docLink);\n",
              "        }\n",
              "      </script>\n",
              "    </div>\n",
              "  </div>\n",
              "  "
            ]
          },
          "metadata": {},
          "execution_count": 42
        }
      ]
    },
    {
      "cell_type": "code",
      "source": [
        "mlp = MLPClassifier(max_iter=400, learning_rate_init=0.1, alpha=0.0001, hidden_layer_sizes=(15,15),  early_stopping=True)\n",
        "\n",
        "mlp.fit(X_train, y_train)\n",
        "\n",
        "\n",
        "print(\"Logistic Regression Score: \", mlp.score(X_test, y_test))\n",
        "\n",
        "pred = mlp.predict(X_test)\n",
        "print(\"Logistic Regression: \")\n",
        "print(confusion_matrix(y_test, pred))\n",
        "print(classification_report(y_test, pred))"
      ],
      "metadata": {
        "colab": {
          "base_uri": "https://localhost:8080/"
        },
        "id": "cfZamj3_2jVI",
        "outputId": "7c3a3c51-6415-4133-fa31-c3e8ee42af5c"
      },
      "execution_count": 49,
      "outputs": [
        {
          "output_type": "stream",
          "name": "stdout",
          "text": [
            "Logistic Regression Score:  0.7664670658682635\n",
            "Logistic Regression: \n",
            "[[48 29]\n",
            " [10 80]]\n",
            "              precision    recall  f1-score   support\n",
            "\n",
            "           0       0.83      0.62      0.71        77\n",
            "           1       0.73      0.89      0.80        90\n",
            "\n",
            "    accuracy                           0.77       167\n",
            "   macro avg       0.78      0.76      0.76       167\n",
            "weighted avg       0.78      0.77      0.76       167\n",
            "\n"
          ]
        }
      ]
    },
    {
      "cell_type": "code",
      "source": [
        "cm = confusion_matrix(y_test, pred)\n",
        "\n",
        "plt.figure(figsize=(10,7))\n",
        "sns.heatmap(cm, annot=True, fmt=\".0f\", cmap='Blues', annot_kws={\"size\": 16})\n",
        "plt.xlabel('Predicted')\n",
        "plt.ylabel('Actual')\n",
        "plt.title('Confusion Matrix of 4-layer Neural network')\n",
        "plt.show()"
      ],
      "metadata": {
        "colab": {
          "base_uri": "https://localhost:8080/",
          "height": 640
        },
        "id": "u6-Q7YLC2jPj",
        "outputId": "b491dc7c-82d4-4b18-e090-5eec644d9c6d"
      },
      "execution_count": 50,
      "outputs": [
        {
          "output_type": "display_data",
          "data": {
            "text/plain": [
              "<Figure size 1000x700 with 2 Axes>"
            ],
            "image/png": "[encoded data removed]"
          },
          "metadata": {}
        }
      ]
    },
    {
      "cell_type": "code",
      "source": [],
      "metadata": {
        "id": "F2O0mqxUavgu"
      },
      "execution_count": null,
      "outputs": []
    }
  ]
}