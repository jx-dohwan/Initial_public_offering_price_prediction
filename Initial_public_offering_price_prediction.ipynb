{
  "nbformat": 4,
  "nbformat_minor": 0,
  "metadata": {
    "colab": {
      "provenance": []
    },
    "kernelspec": {
      "name": "python3",
      "display_name": "Python 3"
    },
    "language_info": {
      "name": "python"
    }
  },
  "cells": [
    {
      "cell_type": "code",
      "source": [
        "!unzip /content/drive/MyDrive/인공지능/경영빅데이터/data/ipo_원본데이터.zip -d /content/drive/MyDrive/인공지능/경영빅데이터/data"
      ],
      "metadata": {
        "id": "iarwTAntiaVC",
        "colab": {
          "base_uri": "https://localhost:8080/"
        },
        "outputId": "da59b730-685b-4846-da1d-a94db447cb46"
      },
      "execution_count": 2,
      "outputs": [
        {
          "output_type": "stream",
          "name": "stdout",
          "text": [
            "Archive:  /content/drive/MyDrive/인공지능/경영빅데이터/data/ipo_원본데이터.zip\n",
            "  inflating: /content/drive/MyDrive/인공지능/경영빅데이터/data/ipo_원본데이터.csv  \n"
          ]
        }
      ]
    },
    {
      "cell_type": "code",
      "source": [],
      "metadata": {
        "id": "aDo6uRnNzjXF"
      },
      "execution_count": null,
      "outputs": []
    }
  ]
}