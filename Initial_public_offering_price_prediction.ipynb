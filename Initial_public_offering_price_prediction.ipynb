{
  "nbformat": 4,
  "nbformat_minor": 0,
  "metadata": {
    "colab": {
      "provenance": []
    },
    "kernelspec": {
      "name": "python3",
      "display_name": "Python 3"
    },
    "language_info": {
      "name": "python"
    }
  },
  "cells": [
    {
      "cell_type": "code",
      "source": [
        "from google.colab import drive\n",
        "drive.mount('/content/drive')"
      ],
      "metadata": {
        "id": "uleoZ2qziZOH",
        "outputId": "9850184d-bfda-43fe-f77f-91d63e657037",
        "colab": {
          "base_uri": "https://localhost:8080/"
        }
      },
      "execution_count": 2,
      "outputs": [
        {
          "output_type": "stream",
          "name": "stdout",
          "text": [
            "Drive already mounted at /content/drive; to attempt to forcibly remount, call drive.mount(\"/content/drive\", force_remount=True).\n"
          ]
        }
      ]
    },
    {
      "cell_type": "code",
      "source": [
        "!unzip /content/drive/MyDrive/인공지능/경영빅데이터/data/공모주시초가예측.zip -d /content/drive/MyDrive/인공지능/경영빅데이터/data"
      ],
      "metadata": {
        "id": "iarwTAntiaVC",
        "colab": {
          "base_uri": "https://localhost:8080/"
        },
        "outputId": "f3f6505e-4651-4afb-d989-773a32ff5307"
      },
      "execution_count": 4,
      "outputs": [
        {
          "output_type": "stream",
          "name": "stdout",
          "text": [
            "Archive:  /content/drive/MyDrive/인공지능/경영빅데이터/data/공모주시초가예측.zip\n",
            "  inflating: /content/drive/MyDrive/인공지능/경영빅데이터/data/IPO 원본데이터(2019 2020 2021).xlsx  \n",
            "  inflating: /content/drive/MyDrive/인공지능/경영빅데이터/data/공모가 데이터(12년치) 데이터 폭증.xlsx  \n",
            "  inflating: /content/drive/MyDrive/인공지능/경영빅데이터/data/공모가 데이터(12년치) 전처리과정.xlsx  \n",
            "  inflating: /content/drive/MyDrive/인공지능/경영빅데이터/data/데이터 및 변수설명 IPO.hwp  \n"
          ]
        }
      ]
    },
    {
      "cell_type": "code",
      "source": [],
      "metadata": {
        "id": "aDo6uRnNzjXF"
      },
      "execution_count": null,
      "outputs": []
    }
  ]
}